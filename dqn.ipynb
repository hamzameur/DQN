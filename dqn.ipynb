{
  "nbformat": 4,
  "nbformat_minor": 0,
  "metadata": {
    "colab": {
      "name": "dqn.ipynb",
      "version": "0.3.2",
      "provenance": [],
      "collapsed_sections": []
    },
    "kernelspec": {
      "name": "python3",
      "display_name": "Python 3"
    }
  },
  "cells": [
    {
      "cell_type": "code",
      "metadata": {
        "id": "8WkFC3kN6hjy",
        "colab_type": "code",
        "colab": {
          "base_uri": "https://localhost:8080/",
          "height": 34
        },
        "outputId": "fc7a7392-87e9-40ae-eee7-93dfeba76da3"
      },
      "source": [
        "import numpy as np\n",
        "import gym\n",
        "from cv2 import resize, INTER_CUBIC\n",
        "from matplotlib import pyplot as plt\n",
        "\n",
        "from keras.models import Sequential\n",
        "from keras.layers import Conv2D, Dense, Flatten, Activation\n",
        "from keras.optimizers import Adam, RMSprop\n",
        "from keras.initializers import RandomNormal\n",
        "from time import time, sleep\n",
        "\n",
        "np.random.seed(0)"
      ],
      "execution_count": 1,
      "outputs": [
        {
          "output_type": "stream",
          "text": [
            "Using TensorFlow backend.\n"
          ],
          "name": "stderr"
        }
      ]
    },
    {
      "cell_type": "code",
      "metadata": {
        "id": "VcjdM9HM6t1H",
        "colab_type": "code",
        "colab": {}
      },
      "source": [
        "env_name = \"AirRaid-v0\"\n",
        "\n",
        "env = gym.make(env_name)\n",
        "s0 = env.reset()"
      ],
      "execution_count": 0,
      "outputs": []
    },
    {
      "cell_type": "code",
      "metadata": {
        "id": "LLQucz1oEX3S",
        "colab_type": "code",
        "colab": {
          "base_uri": "https://localhost:8080/",
          "height": 286
        },
        "outputId": "5cdc1a58-171a-470b-ae88-bb8138b9ab30"
      },
      "source": [
        "plt.imshow(s0)"
      ],
      "execution_count": 3,
      "outputs": [
        {
          "output_type": "execute_result",
          "data": {
            "text/plain": [
              "<matplotlib.image.AxesImage at 0x7f0b6e54feb8>"
            ]
          },
          "metadata": {
            "tags": []
          },
          "execution_count": 3
        },
        {
          "output_type": "display_data",
          "data": {
            "image/png": "[encoded data removed]",
            "text/plain": [
              "<Figure size 432x288 with 1 Axes>"
            ]
          },
          "metadata": {
            "tags": []
          }
        }
      ]
    },
    {
      "cell_type": "code",
      "metadata": {
        "id": "dH4mDduq8b50",
        "colab_type": "code",
        "colab": {}
      },
      "source": [
        "gamma = 0.99 # discount factor\n",
        "max_epsilon = 1 # initial exploration rate\n",
        "min_epsilon = 0.1 # minimum exploration rate\n",
        "Na = env.action_space.n # environment number of possible actions\n",
        "\n",
        "img_size = (84, 84)"
      ],
      "execution_count": 0,
      "outputs": []
    },
    {
      "cell_type": "code",
      "metadata": {
        "id": "0RmxkBbv9z-c",
        "colab_type": "code",
        "colab": {}
      },
      "source": [
        "class replay_buffer:\n",
        "  def __init__(self, N):\n",
        "    self.N      = N # N is the buffer size\n",
        "    self.buffer = []\n",
        "    \n",
        "  def add_transition(self, s1, a, r, s2, done):\n",
        "    if len(self.buffer)<self.N:\n",
        "      self.buffer.append((s1, a, r, s2, done))\n",
        "    \n",
        "    else:\n",
        "      self.buffer.remove(self.buffer[0])\n",
        "      self.buffer.append((s1, a, r, s2, done))\n",
        "  \n",
        "  def sample_batch(self, bsize):\n",
        "    indices = np.random.choice(len(self.buffer), bsize, replace = False)\n",
        "    \n",
        "    states     = []\n",
        "    actions    = []\n",
        "    rewards    = []\n",
        "    new_states = []\n",
        "    dones      = []\n",
        "    \n",
        "    for ind in indices:\n",
        "      state1   = self.buffer[ind][0]\n",
        "      action   = self.buffer[ind][1]\n",
        "      reward   = self.buffer[ind][2]\n",
        "      state2   = self.buffer[ind][3]\n",
        "      done     = self.buffer[ind][4]\n",
        "      \n",
        "      states.append(state1)\n",
        "      actions.append(action)\n",
        "      rewards.append(reward)\n",
        "      new_states.append(state2)\n",
        "      dones.append(done)\n",
        "      \n",
        "    return states, actions, rewards, new_states, dones"
      ],
      "execution_count": 0,
      "outputs": []
    },
    {
      "cell_type": "code",
      "metadata": {
        "id": "j8UVajfVd3m3",
        "colab_type": "code",
        "colab": {}
      },
      "source": [
        "class DQN_model:\n",
        "  def __init__(self, Na):\n",
        "    self.q_network = self.create_network(Na)\n",
        "    self.target_network = self.create_network(Na)\n",
        "    self.update_target_network()\n",
        "    \n",
        "    \n",
        "  def create_network(self, Na):\n",
        "    model = Sequential()\n",
        "    model.add(Conv2D(16, 8, strides=4, data_format=\"channels_last\", activation=\"relu\", kernel_initializer=RandomNormal(stddev=1e-03), input_shape = (84, 84, 4))) \n",
        "    model.add(Conv2D(32, 4, strides=2, data_format=\"channels_last\", activation=\"relu\", kernel_initializer=RandomNormal(stddev=1e-03)))\n",
        "    model.add(Flatten())\n",
        "    Dense(256, activation=\"relu\", kernel_initializer=RandomNormal(stddev=1e-06))\n",
        "    model.add(Dense(256, activation=\"relu\", kernel_initializer=RandomNormal(stddev=1e-03)))\n",
        "    model.add(Dense(Na, kernel_initializer=RandomNormal(stddev=1e-03)))\n",
        "    model.compile(loss='mse',optimizer=RMSprop(lr=1e-03))\n",
        "    return model\n",
        "    \n",
        "  def train_q_network_on_batch(self, states, q_values):\n",
        "    self.q_network.fit(x = states, y = q_values, epochs = 2, batch_size = len(states), verbose = 0)\n",
        "    \n",
        "  def update_target_network(self):\n",
        "    self.target_network.set_weights(self.q_network.get_weights())\n",
        "    "
      ],
      "execution_count": 0,
      "outputs": []
    },
    {
      "cell_type": "code",
      "metadata": {
        "id": "mkEa2awswwT_",
        "colab_type": "code",
        "colab": {
          "base_uri": "https://localhost:8080/",
          "height": 258
        },
        "outputId": "d3a8905f-1019-4bc3-ec23-0276b08e0efa"
      },
      "source": [
        "dqn = DQN_model(Na)\n",
        "RB = replay_buffer(1e06)"
      ],
      "execution_count": 7,
      "outputs": [
        {
          "output_type": "stream",
          "text": [
            "WARNING: Logging before flag parsing goes to stderr.\n",
            "W0701 20:54:25.534014 139688155309952 deprecation_wrapper.py:119] From /usr/local/lib/python3.6/dist-packages/keras/backend/tensorflow_backend.py:74: The name tf.get_default_graph is deprecated. Please use tf.compat.v1.get_default_graph instead.\n",
            "\n",
            "W0701 20:54:25.551470 139688155309952 deprecation_wrapper.py:119] From /usr/local/lib/python3.6/dist-packages/keras/backend/tensorflow_backend.py:517: The name tf.placeholder is deprecated. Please use tf.compat.v1.placeholder instead.\n",
            "\n",
            "W0701 20:54:25.554687 139688155309952 deprecation_wrapper.py:119] From /usr/local/lib/python3.6/dist-packages/keras/backend/tensorflow_backend.py:4115: The name tf.random_normal is deprecated. Please use tf.random.normal instead.\n",
            "\n",
            "W0701 20:54:25.631500 139688155309952 deprecation_wrapper.py:119] From /usr/local/lib/python3.6/dist-packages/keras/optimizers.py:790: The name tf.train.Optimizer is deprecated. Please use tf.compat.v1.train.Optimizer instead.\n",
            "\n",
            "W0701 20:54:25.727307 139688155309952 deprecation_wrapper.py:119] From /usr/local/lib/python3.6/dist-packages/keras/backend/tensorflow_backend.py:174: The name tf.get_default_session is deprecated. Please use tf.compat.v1.get_default_session instead.\n",
            "\n",
            "W0701 20:54:25.728711 139688155309952 deprecation_wrapper.py:119] From /usr/local/lib/python3.6/dist-packages/keras/backend/tensorflow_backend.py:181: The name tf.ConfigProto is deprecated. Please use tf.compat.v1.ConfigProto instead.\n",
            "\n"
          ],
          "name": "stderr"
        }
      ]
    },
    {
      "cell_type": "code",
      "metadata": {
        "id": "pe_fygV_w6jJ",
        "colab_type": "code",
        "colab": {}
      },
      "source": [
        "n_episodes = 1000 # number of training episodes\n",
        "max_steps = 1000 # maximum number of steps in a training episode\n",
        "update_targets_every = 100 # steps to update the target network "
      ],
      "execution_count": 0,
      "outputs": []
    },
    {
      "cell_type": "code",
      "metadata": {
        "id": "4pQXG-myIRqL",
        "colab_type": "code",
        "colab": {}
      },
      "source": [
        "def choose_action(state, epsilon):\n",
        "  u = np.random.rand()\n",
        "  \n",
        "  if u < epsilon:\n",
        "    return np.random.choice(Na)\n",
        "    \n",
        "  pred = dqn.q_network.predict(np.array([state]))\n",
        "  \n",
        "  return np.argmax(pred.reshape(-1))"
      ],
      "execution_count": 0,
      "outputs": []
    },
    {
      "cell_type": "code",
      "metadata": {
        "id": "CqGN07YTSoOW",
        "colab_type": "code",
        "colab": {}
      },
      "source": [
        "def preprocess_obs(obs1, obs2, first):\n",
        "  resized1 = resize(obs1, dsize=img_size, interpolation=INTER_CUBIC)\n",
        "  gray1 = resized1.mean(axis = 2)\n",
        "  \n",
        "  resized2 = resize(obs2, dsize=img_size, interpolation=INTER_CUBIC)\n",
        "  gray2 = resized2.mean(axis = 2)\n",
        "  \n",
        "  if first:\n",
        "    return np.stack([gray1, gray1, gray1, gray1], axis = 2), np.stack([gray1, gray1, gray1, gray2], axis = 2)\n",
        "  \n",
        "  state = RB.buffer[-1][0].copy()\n",
        "  state[:,:,:3] = state[:,:,1:]\n",
        "  state[:,:,-1] = gray1\n",
        "  \n",
        "  \n",
        "  next_state = state.copy()\n",
        "  next_state[:,:,:3] = next_state[:,:,1:]\n",
        "  next_state[:,:,-1] = gray2\n",
        "  \n",
        "  return state, next_state"
      ],
      "execution_count": 0,
      "outputs": []
    },
    {
      "cell_type": "code",
      "metadata": {
        "id": "K9aonW1sGXUx",
        "colab_type": "code",
        "colab": {}
      },
      "source": [
        "def decay_epsilon(step):\n",
        "  return max(max_epsilon - 9*10**(-7)*step, min_epsilon)"
      ],
      "execution_count": 0,
      "outputs": []
    },
    {
      "cell_type": "code",
      "metadata": {
        "id": "VEHaPC_xNZY7",
        "colab_type": "code",
        "colab": {
          "base_uri": "https://localhost:8080/",
          "height": 51
        },
        "outputId": "66cb14eb-8530-4a37-99a7-b353738385d7"
      },
      "source": [
        "batch_size = 32\n",
        "\n",
        "step = 0\n",
        "for episode in range(n_episodes):\n",
        "  total_reward = 0\n",
        "  obs = env.reset()\n",
        "  first = True\n",
        "  state, _ = preprocess_obs(obs, obs, first)\n",
        "  \n",
        "  for episode_step in range(max_steps):\n",
        "    \n",
        "    epsilon = decay_epsilon(step)\n",
        "    \n",
        "    action = choose_action(state, epsilon)\n",
        "    \n",
        "    new_obs, reward, done, _ = env.step(action)\n",
        "    \n",
        "    total_reward += reward\n",
        "    \n",
        "    state, new_state = preprocess_obs(obs, new_obs, first)\n",
        "    \n",
        "    RB.add_transition(state, action, reward, new_state, done)\n",
        "    \n",
        "    n_samples = min(len(RB.buffer), batch_size)\n",
        "    \n",
        "    states, actions, rewards, new_states, dones = RB.sample_batch(bsize = n_samples)\n",
        "    \n",
        "    target_q_vals = dqn.target_network.predict(np.array(states))\n",
        "    \n",
        "    for i in range(n_samples):\n",
        "      if dones[i]:\n",
        "        target_q_vals[i, actions[i]] = rewards[i]\n",
        "        \n",
        "      else:\n",
        "        temp = dqn.target_network.predict(np.array([new_states[i]]))\n",
        "        target_q_vals[i, actions[i]] = rewards[i] + gamma*np.amax(temp)\n",
        "        \n",
        "    dqn.train_q_network_on_batch(np.array(states), target_q_vals)\n",
        "    \n",
        "    if step>0 and step%update_targets_every==0:\n",
        "      dqn.update_target_network()\n",
        "      \n",
        "      \n",
        "    \n",
        "    obs = new_obs\n",
        "    \n",
        "    first = False\n",
        "    \n",
        "    step += 1\n",
        "    if done or (episode_step == max_steps - 1):\n",
        "      print(\"Episode {} / {} : steps = {} , total reward = {}\".format(episode, n_episodes, episode_step, total_reward))\n",
        "      if done:\n",
        "        break\n",
        "  "
      ],
      "execution_count": 0,
      "outputs": [
        {
          "output_type": "stream",
          "text": [
            "Episode 0 / 1000 : steps = 387 , total reward = 375.0\n",
            "Episode 1 / 1000 : steps = 801 , total reward = 325.0\n"
          ],
          "name": "stdout"
        }
      ]
    },
    {
      "cell_type": "code",
      "metadata": {
        "id": "bkgX9dj7N6Hu",
        "colab_type": "code",
        "colab": {}
      },
      "source": [
        "dqn.q_network.save(\"q.h5\")\n",
        "dqn.target_network.save(\"taget.h5\")\n"
      ],
      "execution_count": 0,
      "outputs": []
    }
  ]
}